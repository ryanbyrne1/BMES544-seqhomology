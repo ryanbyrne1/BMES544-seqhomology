{
 "cells": [
  {
   "cell_type": "markdown",
   "id": "9e1366c4",
   "metadata": {},
   "source": [
    "# hwseqsearch_localblast\n",
    "Ryan Byrne"
   ]
  },
  {
   "cell_type": "code",
   "execution_count": 59,
   "id": "192b24be",
   "metadata": {},
   "outputs": [],
   "source": [
    "#Imports\n",
    "from Bio.Blast import NCBIXML\n",
    "import re\n",
    "\n",
    "#Parse blast results file\n",
    "file = open('query_ptn.blast.pdb.xml', 'r') \n",
    "blast_records = NCBIXML.parse(file)"
   ]
  },
  {
   "cell_type": "markdown",
   "id": "fa46e677",
   "metadata": {},
   "source": [
    "# Print the name of the top protein hit."
   ]
  },
  {
   "cell_type": "code",
   "execution_count": 137,
   "id": "60095dbb",
   "metadata": {},
   "outputs": [
    {
     "name": "stdout",
     "output_type": "stream",
     "text": [
      "A Chain A, 3C-like proteinase \n"
     ]
    }
   ],
   "source": [
    "#Base values\n",
    "TopTitle = ''\n",
    "score = 0\n",
    "#Find the alignment with the highest score by comparing current score to highest recorded score\n",
    "#If score is higher update score and set title output\n",
    "for alignment in blast_record.alignments:\n",
    "    if alignment.hsps[0].score > score:\n",
    "        score = alignment.hsps[0].score\n",
    "        TopTitle = alignment.title\n",
    "\n",
    "#Indexing to remove extra information from the alignment title\n",
    "firstHit = TopTitle.split('>')[0]\n",
    "tophitcut = firstHit.split('|')\n",
    "protein = tophitcut[2].split('[')[0]\n",
    "\n",
    "print(protein)"
   ]
  },
  {
   "cell_type": "markdown",
   "id": "4474e933",
   "metadata": {},
   "source": [
    "# Print a unique list of species names of all the hits."
   ]
  },
  {
   "cell_type": "code",
   "execution_count": 139,
   "id": "4f39d2b1",
   "metadata": {},
   "outputs": [
    {
     "name": "stdout",
     "output_type": "stream",
     "text": [
      "['Severe acute respiratory syndrome coronavirus 2', 'Severe acute respiratory syndrome coronavirus', 'Severe acute respiratory syndrome-related coronavirus', 'SARS coronavirus BJ162', 'SARS coronavirus Sin2774', 'SARS coronavirus Urbani', 'SARS coronavirus BJ01', 'unidentified', 'Middle East respiratory syndrome-related coronavirus', 'Betacoronavirus England 1', 'Tylonycteris bat coronavirus HKU4', 'Murine hepatitis virus strain A59', 'Human coronavirus HKU1 (isolate N1)', 'Porcine epidemic diarrhea virus', 'Porcine epidemic diarrhea virus CV777', 'Feline infectious peritonitis virus', 'Transmissible gastroenteritis virus', 'Porcine transmissible gastroenteritis coronavirus strain Purdue', 'Feline infectious peritonitis virus (strain 79-1146)', 'Human coronavirus NL63', 'SARS coronavirus Sino1-11', 'Human coronavirus 229E', 'Infectious bronchitis virus', 'Shewanella oneidensis MR-1', 'Shewanella oneidensis', 'Mycolicibacterium smegmatis', 'Paenibacillus glycanilyticus', 'Escherichia coli K-12', 'Mus musculus']\n"
     ]
    }
   ],
   "source": [
    "#Create list for storying species names\n",
    "speciesList = []\n",
    "#Iterate through alignments and use regular expression to index specifically species names\n",
    "#by looking at species within the brackets\n",
    "for alignment in blast_record.alignments:\n",
    "    FullAlign = alignment.title\n",
    "    res = re.findall(r'\\[.*?\\]', FullAlign)\n",
    "    #Since multiple results come from all things within brackets check to see if it makes sense as a species name\n",
    "    #and check to see if the species is already in the list\n",
    "    for species in res:\n",
    "        if species[1:-1] not in speciesList:\n",
    "            if species[1] != '(':\n",
    "                speciesList.append(species[1:-1])\n",
    "\n",
    "print(speciesList)"
   ]
  },
  {
   "cell_type": "markdown",
   "id": "cd7b6105",
   "metadata": {},
   "source": [
    "# Find the top scoring hit with a mouse protein. Print the local sequence alignment of the query with this mouse protein."
   ]
  },
  {
   "cell_type": "code",
   "execution_count": 144,
   "id": "8d4f9757",
   "metadata": {},
   "outputs": [
    {
     "name": "stdout",
     "output_type": "stream",
     "text": [
      "Score 64 (29 bits), expectation 7.8e+00, alignment length 71\n",
      "Query:      15 GCMVQVTCGTTTLNGL-WLDDVVYCPRHVICTSEDMLNPNYEDLL...MQN 84\n",
      "                C   +TC +  L+G  W ++  +CP H  C       P  +DL ...+Q \n",
      "Sbjct:     123 ACHSSLTCKSNWLHGWDWSEEKKHCPAHEPCLPFSYHFPTPDDLC...LQK 190\n"
     ]
    }
   ],
   "source": [
    "mouse_Pro_Score = {}\n",
    "#Iterate through alignments and finding ones that are from the species mus musculus or house mouse\n",
    "# Store all scores for mouse proteins in a dictionary to story alignment object\n",
    "for alignment in blast_record.alignments: \n",
    "    if 'Mus musculus' in alignment.title:\n",
    "        mouse_Pro_Score[alignment.hsps[0].score] = alignment\n",
    "\n",
    "#find the max score at output the local alignment\n",
    "Top_Score_Align = mouse_Pro_Score[max(mouse_Pro_Score)]\n",
    "print(Top_Score_Align.hsps[0])"
   ]
  },
  {
   "cell_type": "markdown",
   "id": "62565042",
   "metadata": {},
   "source": [
    "# In each hit, use the first HSP (ignore the remaining HSPS in each hit for this assignment). Show a histogram of percent identities of the first HSPs from all the hits."
   ]
  },
  {
   "cell_type": "code",
   "execution_count": 118,
   "id": "9677e0fa",
   "metadata": {},
   "outputs": [
    {
     "data": {
      "image/png": "[encoded data removed]",
      "text/plain": [
       "<Figure size 432x288 with 1 Axes>"
      ]
     },
     "metadata": {
      "needs_background": "light"
     },
     "output_type": "display_data"
    },
    {
     "data": {
      "text/plain": [
       "98"
      ]
     },
     "execution_count": 118,
     "metadata": {},
     "output_type": "execute_result"
    }
   ],
   "source": [
    "import matplotlib.pyplot as plt\n",
    "\n",
    "#Store percent identies\n",
    "Percent_Iden = []\n",
    "\n",
    "#For each alignment calculate percent identy by diving identities by total sequence length\n",
    "for alignment in blast_record.alignments: \n",
    "    hsp = alignment.hsps[0]\n",
    "    Percent_Iden.append(hsp.identities/alignment.length)\n",
    "\n",
    "#Create histogram\n",
    "plt.hist(Percent_Iden)\n",
    "plt.xlabel('Percent Identity')\n",
    "plt.ylabel('Frequency')\n",
    "plt.title('Histogram of Percent Identities of First HSPs from Hits')\n",
    "plt.show() \n"
   ]
  },
  {
   "cell_type": "code",
   "execution_count": null,
   "id": "83db0b97",
   "metadata": {},
   "outputs": [],
   "source": []
  }
 ],
 "metadata": {
  "kernelspec": {
   "display_name": "Python 3",
   "language": "python",
   "name": "python3"
  },
  "language_info": {
   "codemirror_mode": {
    "name": "ipython",
    "version": 3
   },
   "file_extension": ".py",
   "mimetype": "text/x-python",
   "name": "python",
   "nbconvert_exporter": "python",
   "pygments_lexer": "ipython3",
   "version": "3.8.8"
  }
 },
 "nbformat": 4,
 "nbformat_minor": 5
}
